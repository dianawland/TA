{
 "cells": [
  {
   "cell_type": "code",
   "execution_count": 1,
   "metadata": {},
   "outputs": [],
   "source": [
    "from flask import Flask, render_template, url_for\n",
    "import numpy as np\n",
    "import pandas as pd\n",
    "import csv\n",
    "import matplotlib.pyplot as plt\n",
    "from sklearn import model_selection\n",
    "from sklearn.model_selection import train_test_split\n",
    "from sklearn.feature_extraction.text import TfidfVectorizer\n",
    "from sklearn import svm\n",
    "from sklearn.metrics import accuracy_score\n",
    "# Classification\n",
    "from sklearn.model_selection import train_test_split\n",
    "from sklearn.metrics import confusion_matrix, classification_report\n",
    "\n",
    "from sklearn.preprocessing import MinMaxScaler\n",
    "from sklearn.model_selection import GridSearchCV\n",
    "from sklearn.naive_bayes import MultinomialNB, ComplementNB\n",
    "from sklearn.svm import SVC\n",
    "\n",
    "\n",
    "\n",
    "# Packages for visuals\n",
    "import matplotlib.pyplot as plt\n",
    "import seaborn as sns; sns.set(font_scale=1.2)"
   ]
  },
  {
   "cell_type": "code",
   "execution_count": 2,
   "metadata": {},
   "outputs": [],
   "source": [
    "bipolarsentiment = pd.read_csv(\"bismillah.csv\")"
   ]
  },
  {
   "cell_type": "code",
   "execution_count": 3,
   "metadata": {},
   "outputs": [
    {
     "data": {
      "text/html": [
       "<div>\n",
       "<style scoped>\n",
       "    .dataframe tbody tr th:only-of-type {\n",
       "        vertical-align: middle;\n",
       "    }\n",
       "\n",
       "    .dataframe tbody tr th {\n",
       "        vertical-align: top;\n",
       "    }\n",
       "\n",
       "    .dataframe thead th {\n",
       "        text-align: right;\n",
       "    }\n",
       "</style>\n",
       "<table border=\"1\" class=\"dataframe\">\n",
       "  <thead>\n",
       "    <tr style=\"text-align: right;\">\n",
       "      <th></th>\n",
       "      <th>Unnamed: 0</th>\n",
       "      <th>tweet_preprocessing</th>\n",
       "      <th>sentimen</th>\n",
       "    </tr>\n",
       "  </thead>\n",
       "  <tbody>\n",
       "    <tr>\n",
       "      <th>0</th>\n",
       "      <td>1</td>\n",
       "      <td>kak maaf kendalanya ya kak bella bantu kendala...</td>\n",
       "      <td>negatif</td>\n",
       "    </tr>\n",
       "    <tr>\n",
       "      <th>1</th>\n",
       "      <td>2</td>\n",
       "      <td>follow yuk byk hadiah guys</td>\n",
       "      <td>positif</td>\n",
       "    </tr>\n",
       "    <tr>\n",
       "      <th>2</th>\n",
       "      <td>3</td>\n",
       "      <td>kak maaf kendalanya ya kak bella bantu kendala...</td>\n",
       "      <td>negatif</td>\n",
       "    </tr>\n",
       "    <tr>\n",
       "      <th>3</th>\n",
       "      <td>4</td>\n",
       "      <td>mengajakmu bergabung bukalapak memberikanmu cr...</td>\n",
       "      <td>positif</td>\n",
       "    </tr>\n",
       "    <tr>\n",
       "      <th>4</th>\n",
       "      <td>5</td>\n",
       "      <td>tolong nomor dana hangus memutus akun dana</td>\n",
       "      <td>negatif</td>\n",
       "    </tr>\n",
       "    <tr>\n",
       "      <th>...</th>\n",
       "      <td>...</td>\n",
       "      <td>...</td>\n",
       "      <td>...</td>\n",
       "    </tr>\n",
       "    <tr>\n",
       "      <th>817</th>\n",
       "      <td>818</td>\n",
       "      <td>kirain rui mau pake embel2 bukalapak juga kek ...</td>\n",
       "      <td>netral</td>\n",
       "    </tr>\n",
       "    <tr>\n",
       "      <th>818</th>\n",
       "      <td>819</td>\n",
       "      <td>mau checkout marketplace tapi punyanya dana at...</td>\n",
       "      <td>positif</td>\n",
       "    </tr>\n",
       "    <tr>\n",
       "      <th>819</th>\n",
       "      <td>820</td>\n",
       "      <td>baik kak mohon maaf atas kendalanya ya kak aka...</td>\n",
       "      <td>negatif</td>\n",
       "    </tr>\n",
       "    <tr>\n",
       "      <th>820</th>\n",
       "      <td>821</td>\n",
       "      <td>males sama bukalapak dan kayaknya semua seller...</td>\n",
       "      <td>negatif</td>\n",
       "    </tr>\n",
       "    <tr>\n",
       "      <th>821</th>\n",
       "      <td>822</td>\n",
       "      <td>tgl 16 juni ini baru ngeh harus bayar pajak mo...</td>\n",
       "      <td>positif</td>\n",
       "    </tr>\n",
       "  </tbody>\n",
       "</table>\n",
       "<p>822 rows × 3 columns</p>\n",
       "</div>"
      ],
      "text/plain": [
       "     Unnamed: 0                                tweet_preprocessing sentimen\n",
       "0             1  kak maaf kendalanya ya kak bella bantu kendala...  negatif\n",
       "1             2                         follow yuk byk hadiah guys  positif\n",
       "2             3  kak maaf kendalanya ya kak bella bantu kendala...  negatif\n",
       "3             4  mengajakmu bergabung bukalapak memberikanmu cr...  positif\n",
       "4             5         tolong nomor dana hangus memutus akun dana  negatif\n",
       "..          ...                                                ...      ...\n",
       "817         818  kirain rui mau pake embel2 bukalapak juga kek ...   netral\n",
       "818         819  mau checkout marketplace tapi punyanya dana at...  positif\n",
       "819         820  baik kak mohon maaf atas kendalanya ya kak aka...  negatif\n",
       "820         821  males sama bukalapak dan kayaknya semua seller...  negatif\n",
       "821         822  tgl 16 juni ini baru ngeh harus bayar pajak mo...  positif\n",
       "\n",
       "[822 rows x 3 columns]"
      ]
     },
     "execution_count": 3,
     "metadata": {},
     "output_type": "execute_result"
    }
   ],
   "source": [
    "bipolarsentiment"
   ]
  },
  {
   "cell_type": "code",
   "execution_count": 4,
   "metadata": {},
   "outputs": [],
   "source": [
    "# Split into train and test data\n",
    "\n",
    "train_X, test_X, train_Y, test_Y = model_selection.train_test_split(bipolarsentiment['tweet_preprocessing'], bipolarsentiment['sentimen'], test_size = 0.4, random_state = 42)\n",
    "# random_state = 0 menyatakan tidak ada pengacakan pada data yang di split yang artinya urutannya masih sama"
   ]
  },
  {
   "cell_type": "code",
   "execution_count": 5,
   "metadata": {},
   "outputs": [],
   "source": [
    "df_train90 = pd.DataFrame()\n",
    "df_train90['tweet_preprocessing'] = train_X\n",
    "df_train90['sentimen'] = train_Y\n",
    "\n",
    "df_test10 = pd.DataFrame()\n",
    "df_test10['tweet_preprocessing'] = test_X\n",
    "df_test10['sentimen'] = test_Y"
   ]
  },
  {
   "cell_type": "code",
   "execution_count": 6,
   "metadata": {},
   "outputs": [
    {
     "data": {
      "text/html": [
       "<div>\n",
       "<style scoped>\n",
       "    .dataframe tbody tr th:only-of-type {\n",
       "        vertical-align: middle;\n",
       "    }\n",
       "\n",
       "    .dataframe tbody tr th {\n",
       "        vertical-align: top;\n",
       "    }\n",
       "\n",
       "    .dataframe thead th {\n",
       "        text-align: right;\n",
       "    }\n",
       "</style>\n",
       "<table border=\"1\" class=\"dataframe\">\n",
       "  <thead>\n",
       "    <tr style=\"text-align: right;\">\n",
       "      <th></th>\n",
       "      <th>tweet_preprocessing</th>\n",
       "      <th>sentimen</th>\n",
       "    </tr>\n",
       "  </thead>\n",
       "  <tbody>\n",
       "    <tr>\n",
       "      <th>682</th>\n",
       "      <td>halo min dpt sms notifikasi ganti no telf akun...</td>\n",
       "      <td>positif</td>\n",
       "    </tr>\n",
       "    <tr>\n",
       "      <th>177</th>\n",
       "      <td>pembeli gk dihubungi aja transaksi laporkan vi...</td>\n",
       "      <td>negatif</td>\n",
       "    </tr>\n",
       "    <tr>\n",
       "      <th>567</th>\n",
       "      <td>hai kak senang hati bella bantu</td>\n",
       "      <td>negatif</td>\n",
       "    </tr>\n",
       "    <tr>\n",
       "      <th>680</th>\n",
       "      <td>cek perlengkapan butuhkan harganya terbaik</td>\n",
       "      <td>negatif</td>\n",
       "    </tr>\n",
       "    <tr>\n",
       "      <th>257</th>\n",
       "      <td>reksa dana ud konsultasi ahlinya telegram dise...</td>\n",
       "      <td>positif</td>\n",
       "    </tr>\n",
       "    <tr>\n",
       "      <th>...</th>\n",
       "      <td>...</td>\n",
       "      <td>...</td>\n",
       "    </tr>\n",
       "    <tr>\n",
       "      <th>71</th>\n",
       "      <td>bukalapak ovo skil academy tolong pusing</td>\n",
       "      <td>negatif</td>\n",
       "    </tr>\n",
       "    <tr>\n",
       "      <th>106</th>\n",
       "      <td>proses komplain transaksi bl2015ipkbmcinv</td>\n",
       "      <td>negatif</td>\n",
       "    </tr>\n",
       "    <tr>\n",
       "      <th>270</th>\n",
       "      <td>kubah masjid enamel stainless harga murah dipesan</td>\n",
       "      <td>positif</td>\n",
       "    </tr>\n",
       "    <tr>\n",
       "      <th>435</th>\n",
       "      <td>buka bukalapak edisi malam jumatan jamin ori</td>\n",
       "      <td>positif</td>\n",
       "    </tr>\n",
       "    <tr>\n",
       "      <th>102</th>\n",
       "      <td>gw bgt tim ui ux nya shopee bukalapak</td>\n",
       "      <td>positif</td>\n",
       "    </tr>\n",
       "  </tbody>\n",
       "</table>\n",
       "<p>493 rows × 2 columns</p>\n",
       "</div>"
      ],
      "text/plain": [
       "                                   tweet_preprocessing sentimen\n",
       "682  halo min dpt sms notifikasi ganti no telf akun...  positif\n",
       "177  pembeli gk dihubungi aja transaksi laporkan vi...  negatif\n",
       "567                    hai kak senang hati bella bantu  negatif\n",
       "680         cek perlengkapan butuhkan harganya terbaik  negatif\n",
       "257  reksa dana ud konsultasi ahlinya telegram dise...  positif\n",
       "..                                                 ...      ...\n",
       "71            bukalapak ovo skil academy tolong pusing  negatif\n",
       "106          proses komplain transaksi bl2015ipkbmcinv  negatif\n",
       "270  kubah masjid enamel stainless harga murah dipesan  positif\n",
       "435       buka bukalapak edisi malam jumatan jamin ori  positif\n",
       "102              gw bgt tim ui ux nya shopee bukalapak  positif\n",
       "\n",
       "[493 rows x 2 columns]"
      ]
     },
     "execution_count": 6,
     "metadata": {},
     "output_type": "execute_result"
    }
   ],
   "source": [
    "df_train90"
   ]
  },
  {
   "cell_type": "code",
   "execution_count": 7,
   "metadata": {},
   "outputs": [
    {
     "data": {
      "text/html": [
       "<div>\n",
       "<style scoped>\n",
       "    .dataframe tbody tr th:only-of-type {\n",
       "        vertical-align: middle;\n",
       "    }\n",
       "\n",
       "    .dataframe tbody tr th {\n",
       "        vertical-align: top;\n",
       "    }\n",
       "\n",
       "    .dataframe thead th {\n",
       "        text-align: right;\n",
       "    }\n",
       "</style>\n",
       "<table border=\"1\" class=\"dataframe\">\n",
       "  <thead>\n",
       "    <tr style=\"text-align: right;\">\n",
       "      <th></th>\n",
       "      <th>tweet_preprocessing</th>\n",
       "      <th>sentimen</th>\n",
       "    </tr>\n",
       "  </thead>\n",
       "  <tbody>\n",
       "    <tr>\n",
       "      <th>610</th>\n",
       "      <td>rt perusahaan teknologi indonesia bukalapak me...</td>\n",
       "      <td>positif</td>\n",
       "    </tr>\n",
       "    <tr>\n",
       "      <th>174</th>\n",
       "      <td>kak maaf banget ya udah bikin kakak gak nyaman...</td>\n",
       "      <td>negatif</td>\n",
       "    </tr>\n",
       "    <tr>\n",
       "      <th>67</th>\n",
       "      <td>yuk langsung aja kepoin marketplace gopayless ...</td>\n",
       "      <td>positif</td>\n",
       "    </tr>\n",
       "    <tr>\n",
       "      <th>168</th>\n",
       "      <td>jual bukalapak carousel deh cepet lakunya</td>\n",
       "      <td>positif</td>\n",
       "    </tr>\n",
       "    <tr>\n",
       "      <th>275</th>\n",
       "      <td>gratisan pake kode ongkirgratis pas belanja bu...</td>\n",
       "      <td>positif</td>\n",
       "    </tr>\n",
       "    <tr>\n",
       "      <th>...</th>\n",
       "      <td>...</td>\n",
       "      <td>...</td>\n",
       "    </tr>\n",
       "    <tr>\n",
       "      <th>493</th>\n",
       "      <td>mohon maaf ya kak terkait mohon kese</td>\n",
       "      <td>netral</td>\n",
       "    </tr>\n",
       "    <tr>\n",
       "      <th>629</th>\n",
       "      <td>salah kode unik udh nungfu 3 disuruh nungfu br...</td>\n",
       "      <td>positif</td>\n",
       "    </tr>\n",
       "    <tr>\n",
       "      <th>425</th>\n",
       "      <td>hai kak maaf banget ya kendalanya terkait kend...</td>\n",
       "      <td>negatif</td>\n",
       "    </tr>\n",
       "    <tr>\n",
       "      <th>178</th>\n",
       "      <td>tersedia jg bukalapak shopee toped wa 08591916...</td>\n",
       "      <td>positif</td>\n",
       "    </tr>\n",
       "    <tr>\n",
       "      <th>544</th>\n",
       "      <td>bangeeet ku</td>\n",
       "      <td>positif</td>\n",
       "    </tr>\n",
       "  </tbody>\n",
       "</table>\n",
       "<p>329 rows × 2 columns</p>\n",
       "</div>"
      ],
      "text/plain": [
       "                                   tweet_preprocessing sentimen\n",
       "610  rt perusahaan teknologi indonesia bukalapak me...  positif\n",
       "174  kak maaf banget ya udah bikin kakak gak nyaman...  negatif\n",
       "67   yuk langsung aja kepoin marketplace gopayless ...  positif\n",
       "168          jual bukalapak carousel deh cepet lakunya  positif\n",
       "275  gratisan pake kode ongkirgratis pas belanja bu...  positif\n",
       "..                                                 ...      ...\n",
       "493               mohon maaf ya kak terkait mohon kese   netral\n",
       "629  salah kode unik udh nungfu 3 disuruh nungfu br...  positif\n",
       "425  hai kak maaf banget ya kendalanya terkait kend...  negatif\n",
       "178  tersedia jg bukalapak shopee toped wa 08591916...  positif\n",
       "544                                        bangeeet ku  positif\n",
       "\n",
       "[329 rows x 2 columns]"
      ]
     },
     "execution_count": 7,
     "metadata": {},
     "output_type": "execute_result"
    }
   ],
   "source": [
    "df_test10"
   ]
  },
  {
   "cell_type": "code",
   "execution_count": 9,
   "metadata": {},
   "outputs": [],
   "source": [
    "df_train90.to_csv(\"df_train90.csv\")\n",
    "df_test10.to_csv(\"df_test10.csv\")"
   ]
  },
  {
   "cell_type": "code",
   "execution_count": 10,
   "metadata": {},
   "outputs": [],
   "source": [
    "# TF-IDF\n",
    "\n",
    "from sklearn.feature_extraction.text import TfidfVectorizer\n",
    "\n",
    "tfidf_vect_9010 = TfidfVectorizer(max_features = 5000)\n",
    "tfidf_vect_9010.fit(bipolarsentiment['tweet_preprocessing'])\n",
    "train_X_tfidf_9010 = tfidf_vect_9010.transform(df_train90['tweet_preprocessing'])\n",
    "test_X_tfidf_9010 = tfidf_vect_9010.transform(df_test10['tweet_preprocessing'])"
   ]
  },
  {
   "cell_type": "code",
   "execution_count": 11,
   "metadata": {},
   "outputs": [
    {
     "data": {
      "text/plain": [
       "TfidfVectorizer(max_features=5000)"
      ]
     },
     "execution_count": 11,
     "metadata": {},
     "output_type": "execute_result"
    }
   ],
   "source": [
    "tfidf_vect_9010"
   ]
  },
  {
   "cell_type": "code",
   "execution_count": 12,
   "metadata": {},
   "outputs": [
    {
     "name": "stdout",
     "output_type": "stream",
     "text": [
      "  (0, 1467)\t0.14446056457306494\n",
      "  (0, 1338)\t0.3376182928281366\n",
      "  (0, 1277)\t0.2875534787871719\n",
      "  (0, 966)\t0.3376182928281366\n",
      "  (0, 961)\t0.2521729223945112\n",
      "  (0, 899)\t0.2122182609302159\n",
      "  (0, 524)\t0.2815414376911193\n",
      "  (0, 483)\t0.3115440400642885\n",
      "  (0, 433)\t0.2521729223945112\n",
      "  (0, 417)\t0.3376182928281366\n",
      "  (0, 329)\t0.27129853249540364\n",
      "  (0, 226)\t0.25546718492727116\n",
      "  (0, 77)\t0.2589888124384207\n",
      "  (1, 1446)\t0.4260935876598797\n",
      "  (1, 1404)\t0.27587660891438187\n",
      "  (1, 1040)\t0.4026040762536399\n",
      "  (1, 769)\t0.4260935876598797\n",
      "  (1, 495)\t0.36497611449661455\n",
      "  (1, 371)\t0.44167149401690464\n",
      "  (1, 69)\t0.2653474906004366\n",
      "  (2, 1229)\t0.5584336783940017\n",
      "  (2, 637)\t0.25034720961052787\n",
      "  (2, 537)\t0.5276485770966431\n",
      "  (2, 520)\t0.32808022717423047\n",
      "  (2, 172)\t0.31962864719853107\n",
      "  :\t:\n",
      "  (489, 1116)\t0.4486637689071867\n",
      "  (489, 726)\t0.5397087305809788\n",
      "  (489, 228)\t0.620732508079199\n",
      "  (490, 1285)\t0.3968748163498089\n",
      "  (490, 922)\t0.3533933300677208\n",
      "  (490, 835)\t0.3968748163498089\n",
      "  (490, 739)\t0.3968748163498089\n",
      "  (490, 529)\t0.295913931743969\n",
      "  (490, 441)\t0.3968748163498089\n",
      "  (490, 384)\t0.3968748163498089\n",
      "  (491, 1000)\t0.4333595247038333\n",
      "  (491, 818)\t0.40832862058234043\n",
      "  (491, 626)\t0.4333595247038333\n",
      "  (491, 606)\t0.4333595247038333\n",
      "  (491, 427)\t0.4333595247038333\n",
      "  (491, 259)\t0.11540590345332975\n",
      "  (491, 255)\t0.2621970717901224\n",
      "  (492, 1439)\t0.43496698791946453\n",
      "  (492, 1422)\t0.379247690116685\n",
      "  (492, 1385)\t0.40137449773791173\n",
      "  (492, 1252)\t0.29047493112584144\n",
      "  (492, 973)\t0.2857757061177909\n",
      "  (492, 513)\t0.4160486785304424\n",
      "  (492, 259)\t0.12293470426253619\n",
      "  (492, 212)\t0.3893848190265477\n"
     ]
    }
   ],
   "source": [
    "print(train_X_tfidf_9010)"
   ]
  },
  {
   "cell_type": "code",
   "execution_count": 13,
   "metadata": {},
   "outputs": [
    {
     "name": "stdout",
     "output_type": "stream",
     "text": [
      "  (0, 1335)\t0.329874946323455\n",
      "  (0, 1170)\t0.26554482708325966\n",
      "  (0, 1113)\t0.28239028040194214\n",
      "  (0, 1076)\t0.2971061972953279\n",
      "  (0, 872)\t0.329874946323455\n",
      "  (0, 810)\t0.3376939835747668\n",
      "  (0, 573)\t0.3168085976108198\n",
      "  (0, 414)\t0.329874946323455\n",
      "  (0, 303)\t0.3229780666813811\n",
      "  (0, 259)\t0.10946489875582051\n",
      "  (0, 104)\t0.3229780666813811\n",
      "  (1, 1467)\t0.1873100864741054\n",
      "  (1, 1420)\t0.25853297767103167\n",
      "  (1, 1261)\t0.3358094092809014\n",
      "  (1, 975)\t0.27516589682243714\n",
      "  (1, 801)\t0.1987778503859909\n",
      "  (1, 705)\t0.403953433640495\n",
      "  (1, 638)\t0.511309943989026\n",
      "  (1, 637)\t0.18109333093112334\n",
      "  (1, 477)\t0.2542615794406339\n",
      "  (1, 217)\t0.2899343630563701\n",
      "  (1, 139)\t0.25289691868737474\n",
      "  (2, 1481)\t0.23210890107366314\n",
      "  (2, 1390)\t0.2880760855213738\n",
      "  (2, 1366)\t0.3312787797693405\n",
      "  :\t:\n",
      "  (325, 396)\t0.29830126862267436\n",
      "  (325, 245)\t0.32318851705422813\n",
      "  (326, 1481)\t0.2629524766406076\n",
      "  (326, 1467)\t0.19983932368480845\n",
      "  (326, 1357)\t0.32964162168762307\n",
      "  (326, 801)\t0.2120741703365133\n",
      "  (326, 687)\t0.2896480109072706\n",
      "  (326, 685)\t0.25434574487915484\n",
      "  (326, 637)\t0.1932067271887566\n",
      "  (326, 579)\t0.34052631721136495\n",
      "  (326, 520)\t0.25319757726195646\n",
      "  (326, 433)\t0.3488430660081812\n",
      "  (326, 172)\t0.24667502760294782\n",
      "  (326, 139)\t0.26981328204898175\n",
      "  (326, 79)\t0.34052631721136495\n",
      "  (327, 1452)\t0.40784572793264073\n",
      "  (327, 1395)\t0.40784572793264073\n",
      "  (327, 1366)\t0.34263327930432746\n",
      "  (327, 1252)\t0.28474783323349523\n",
      "  (327, 614)\t0.34877741196819784\n",
      "  (327, 259)\t0.12051088378705027\n",
      "  (327, 244)\t0.40784572793264073\n",
      "  (327, 6)\t0.40784572793264073\n",
      "  (328, 738)\t0.6561381000276744\n",
      "  (328, 138)\t0.7546408375459637\n"
     ]
    }
   ],
   "source": [
    "print(test_X_tfidf_9010)"
   ]
  },
  {
   "cell_type": "code",
   "execution_count": 14,
   "metadata": {},
   "outputs": [
    {
     "name": "stdout",
     "output_type": "stream",
     "text": [
      "(493, 1485)\n",
      "(329, 1485)\n"
     ]
    }
   ],
   "source": [
    "print(train_X_tfidf_9010.shape)\n",
    "print(test_X_tfidf_9010.shape)"
   ]
  },
  {
   "cell_type": "code",
   "execution_count": 15,
   "metadata": {},
   "outputs": [
    {
     "name": "stdout",
     "output_type": "stream",
     "text": [
      "{'kak': 637, 'maaf': 801, 'kendalanya': 687, 'ya': 1467, 'bella': 172, 'bantu': 143, 'kendala': 685, 'kakak': 638, 'inbox': 572, 'silakan': 1261, 'follow': 461, 'yuk': 1481, 'byk': 273, 'hadiah': 517, 'guys': 510, 'mengajakmu': 868, 'bergabung': 184, 'bukalapak': 259, 'memberikanmu': 852, 'credits': 309, 'rp10': 1165, '000': 1, 'cek': 287, 'tolong': 1392, 'nomor': 964, 'dana': 326, 'hangus': 527, 'memutus': 858, 'akun': 77, 'belanja': 167, 'pengiriman': 1054, 'pakai': 1012, 'jasa': 609, 'terimakasih': 1354, 'jnt': 618, 'malam': 818, 'min': 899, 'knp': 722, 'ga': 466, 'login': 788, 'padhal': 1007, 'udah': 1420, 'bener': 175, 'sms': 1277, 'kode': 723, 'gagal': 474, 'balas': 133, 'dmnya': 405, 'yaa': 1468, 'hi': 545, 'gratisan': 505, 'pake': 1013, 'ongkirgratis': 990, 'pas': 1022, 'biar': 214, 'ongkir': 989, 'gratis': 504, 'maks': 816, 'rp30rb': 1168, 'berlaku': 197, 'kejadian': 669, 'shopee': 1252, 'balikin': 136, 'akunku': 78, 'hallo': 523, 'membeli': 851, 'pelatihan': 1037, 'prakerja': 1106, 'menyelesaikan': 885, 'skill': 1269, 'academy': 57, 'free': 465, 'link': 784, 'lazada': 772, 'ngasih': 941, 'emas': 435, 'nih': 955, 'ambil': 89, 'emasnya': 436, 'selamat': 1217, 'terpilih': 1364, 'pemenang': 1043, 'kuis': 741, 'dm': 404, 'beli': 168, 'buka': 255, 'mas': 833, '200': 25, 'rb': 1133, 'masuk': 838, 'saldo': 1183, 'tinggal': 1386, '190': 21, '828': 54, 'sisanya': 1265, 'kemana': 679, 'mohon': 914, 'perhatian': 1062, 'tiket': 1383, 'komplain': 726, 'pencurian': 1048, 'foto': 463, 'watermark': 1458, 'c18': 275, 'minisite': 902, 'blogger': 233, 'responsiv': 1155, 'untul': 1429, 'bisnis': 225, 'reseller': 1149, 'tokopedia': 1390, 'dll': 403, 'hai': 520, 'dialami': 357, 'terkait': 1357, 'diinfokan': 372, 'detail': 348, 'nokia': 962, 'c1': 274, 'tersedia': 1366, 'toko': 1388, 'resmi': 1153, 'mobile': 912, 'banget': 139, 'transaksi': 1404, 'alamat': 79, 'promo': 1114, 'paket': 1014, 'bundling': 265, 'pembelian': 1041, 'marketplace': 832, 'instagram': 588, 'perlengkapan': 1067, 'butuhkan': 270, 'harganya': 530, 'terbaik': 1346, 'diskon': 394, '5rb': 49, 'minimal': 901, '25rb': 38, 'bayar': 156, 'hemat': 543, 'lupa': 798, 'voucher': 1449, 'bank': 141, 'mandiri': 826, 'lumayan': 797, 'chat': 293, 'dijawab2': 374, 'ganti2': 484, 'cs': 312, 'tidur': 1382, 'gimana': 493, 'nya': 973, 'infokan': 581, 'order': 996, 'pomade': 1102, 'langsung': 763, 'infoin': 579, 'via': 1445, 'transaksinya': 1405, 'bukti': 262, 'resi': 1150, 'fisik': 457, 'invest': 593, '300': 43, 'rupiah': 1175, 'w0w': 1451, 'berkesempatan': 196, 'menangin': 861, 'total': 1399, '15jt': 15, 'gampang': 482, 'top': 1394, 'up': 1432, 'produk': 1110, 'virtual': 1447, 'mudah': 920, 'praktis': 1107, 'lwt': 799, 'commerce': 304, 'spt': 1283, 'yg': 1478, 'baca': 125, 'pikir2': 1085, 'lg': 778, 'kalo': 642, 'slama': 1273, 'sy': 1300, 'rekomen': 1141, 'org2': 999, 'bales': 135, 'bepergian': 177, 'loh': 791, 'investasi': 594, 'reksadana': 1143, 'ayo': 121, 'dapet': 329, 'bl': 226, 'lanjutan': 764, 'mksdnya': 907, 'woy': 1465, 'no': 961, 'laporan': 768, 'skrng': 1272, 'hdeh': 538, 'jancok': 607, 'gaj': 475, 'konfirmasi': 728, 'pindak': 1089, 'nt': 970, 'netijen': 936, 'please': 1097, 'do': 406, 'your': 1479, 'magic': 805, 'jualan': 621, 'gue': 508, 'belinya': 170, 'nabung': 926, 'aja': 69, 'belom': 173, 'angsuran': 98, 'fif': 454, 'nggak': 950, 'nyaman': 975, 'perihal': 1063, 'aplikasi': 103, 'gak': 477, 'kmren': 720, 'ni': 954, 'brubah': 246, 'kali': 640, 'selesai': 1219, 'bintek': 221, 'verifikasi': 1443, 'blibli': 231, 'bersyukur': 200, 'tokped': 1391, 'dsj': 419, 'bintang': 220, 'iklan': 563, 'konsep': 729, 'mahal': 808, 'bangsat': 140, 'respon': 1154, 'kek': 672, 'doi': 409, 'emang': 434, 'cincai': 297, 'harga': 529, 'santai': 1194, 'kagak': 634, 'lebay': 774, 'dinego': 382, 'aje': 71, 'say': 1198, 'bikin': 217, '202xx': 34, 'admin': 63, 'cakep': 276, 'hati': 537, 'kirim': 716, 'pesan': 1078, 'pelapak': 1035, 'dihiraukan': 370, 'cincau': 298, 'sayy': 1201, 'kepoin': 690, 'gopayless': 500, 'bni': 237, 'tapcash': 1321, 'dapatkan': 328, 'cashbacknya': 285, 'cuss': 319, 'ovo': 1004, 'skil': 1268, 'pusing': 1125, 'buku': 263, 'das': 332, 'kapital': 648, 'ribu': 1159, 'rekening': 1139, 'sih': 1260, 'gk': 495, 'keterangan': 707, 'ak': 72, 'klo': 719, 'alfa': 82, 'iya': 598, 'sepi': 1233, 'moms': 916, 'makasih': 814, 'tanganin': 1314, 'kenalan': 682, 'mi': 893, 'open': 995, 'room': 1162, 'suruh': 1298, 'tf': 1374, 'hadehhh': 516, 'kereeeenn': 691, 'bgt': 212, 'pdhl': 1032, 'th': 1376, 'udh': 1421, 'new': 937, 'update': 1433, 'tau': 1326, 'jumat': 625, 'bukalapa': 258, 'bukamall': 260, 'festival': 453, 'flash': 460, 'deal': 337, 'oke': 984, 'jaga': 603, 'kesehatan': 700, 'diterbitkan': 398, 'ampir': 92, 'sebulan': 1208, 'hasil': 535, 'gila': 492, 'potongan': 1104, 'super': 1297, 'seller': 1221, 'cuy': 320, 'pantesan': 1019, 'platform': 1095, 'rt': 1170, 'ketidaknyamanannya': 710, 'official': 981, 'store': 1289, 'mendapakan': 865, 'terbaru': 1347, 'penjual': 1055, 'hasilnya': 536, 'gmn': 496, 'yak': 1472, 'berasa': 178, 'imbasnya': 568, 'gw': 513, 'tim': 1385, 'ui': 1422, 'ux': 1439, 'jual': 620, 'alat': 81, 'rapid': 1131, 'test': 1371, 'ekonomis': 429, 'eceran': 426, 'rp85000': 1169, 'proses': 1116, 'bl2015ipkbmcinv': 228, 'bayarnya': 158, 'coba': 301, 'vote': 1448, 'profesional': 1112, 'berhati2': 188, 'kawan2': 659, 'unik': 1427, 'ke3': 664, 'twiiter': 1415, 'sangat2': 1193, 'tiao': 1378, 'berubah2': 204, 'tpi': 1401, 'ig': 561, 'live': 786, 'tto': 1408, 'sm': 1274, 'pastikan': 1028, 'trakhir': 1403, 'makai': 811, 'pilihan': 1087, 'topuo': 1396, 'aktivitas': 75, 'sehari2': 1213, 'bunyi': 267, 'apatuh': 102, 'suara': 1293, 'perut': 1077, 'hihihihi': 547, 'laper': 767, 'bukafood': 257, 'makanan': 812, 'basi': 150, 'jawabanmu': 611, 'gaada': 467, 'kejelasan': 670, 'penyelesaian': 1059, 'metode': 892, 'pembayaran': 1039, 'dapetin': 330, 'ongkos': 991, 'tidakperlu': 1381, 'balasan': 134, 'kayak': 661, 'robot': 1161, 'buarkan': 252, 'mreka': 918, 'ono': 993, 'penggemar': 1052, 'setia': 1244, 'terima': 1353, 'kasih': 656, 'user': 1438, 'experience': 449, 'amankah': 87, 'merger': 890, 'perusahaan': 1076, 'nasib': 930, 'cicil': 295, 'cuan': 313, 'cicilan': 296, 'bukaemas': 256, 'penarikan': 1046, 'kerekning': 692, 'bca': 159, 'status': 1288, 'pending': 1050, '24': 35, '670417': 52, 'kelanjutan': 675, 'sayaa': 1200, 'btuh': 249, 'uang': 1417, 'yaallah': 1470, 'grgr': 506, 'kah': 635, 'jg': 614, 'gitu': 494, 'duit': 422, 'gabalik2': 468, 'smoe': 1276, 'skrg': 1271, 'lhoo': 781, 'ngecek': 945, 'dah': 322, 'rapi': 1130, 'yaaa': 1469, 'pelaporan': 1036, '2467041': 36, 'salah': 1181, 'nungfu': 971, 'disuruh': 396, 'brpa': 245, 'sahabat': 1176, 'pilih': 1086, 'program': 1113, 'rumah': 1174, 'zakat': 1483, 'undang': 1426, 'lol': 793, 'sesuai': 1242, 'target': 1325, 'audience': 119, 'kumpulan': 742, 'novel': 967, 'fiksi': 455, 'import': 570, 'bhs': 213, 'inggris': 585, 'best': 210, 'in': 571, 'maret': 829, '2020': 28, 'kerja': 694, 'tp': 1400, 'gapernah': 485, 'post': 1103, 'dirugikan': 388, 'cancel': 278, 'orderan': 997, 'persetujuan': 1073, 'konyol': 733, 'ngebadut': 943, 'syopii': 1303, 'sampe': 1189, 'gua': 507, 'pindah': 1088, 'haluan': 525, 'dibls': 365, 'keluhan': 678, '202977841766': 31, 'dibaca': 360, 'semoga': 1227, 'bertahan': 201, 'dgn': 352, 'membatalkan': 850, 'sdh': 1203, 'diproses': 386, 'carousel': 282, 'deh': 340, 'cepet': 292, 'lakunya': 755, 'loopers': 795, 'cus': 318, 'streaming': 1291, 'internetan': 592, 'lancar': 762, 'kartu': 654, 'perdana': 1061, 'internet': 591, 'telkomsel': 1339, 'memiliki': 855, 'perbaikan': 1060, 'pasien': 1026, 'signifikan': 1259, 'kesepakatan': 705, 'saksikan': 1180, 'leadership': 773, 'talks': 1311, 'strategi': 1290, 'perjuangan': 1065, 'era': 444, 'pandemic': 1018, 'sebentar': 1207, 'pembeli': 1040, 'dihubungi': 371, 'laporkan': 769, 'viralkan': 1446, 'toped': 1395, 'wa': 1452, '0859191646576': 6, 'bro': 244, 'gamenang': 481, 'mmm': 909, 'gatau': 486, 'msti': 919, 'prcya': 1108, 'engga': 443, 'bantuin': 145, 'teknologi': 1335, 'indonesia': 573, 'menghadirkan': 872, 'maingame': 810, 'dot': 414, 'com': 303, 'aplikasinya': 104, 'smartphone': 1275, 'versi': 1444, 'tunggu': 1412, 'pasaran': 1024, 'doyan': 416, 'media': 843, 'digital': 369, 'film': 456, 'nge': 942, 'game': 480, 'jadiii': 602, 'nikmatin': 956, 'cashback': 284, '15': 14, 'berlangganan': 198, 'favorit': 452, 'dorong': 413, 'industri': 575, 'hadirkan': 519, 'turnamen': 1413, 'asik': 112, 'keamanan': 665, 'data': 334, 'amazon': 88, '60usd': 51, '132usd': 13, 'shipping': 1251, 'bea': 162, 'cukai': 314, 'dijual': 375, 'juta': 628, 'nyari': 978, 'temen': 1340, 'diajak': 355, 'deeptalk': 339, 'menu': 881, 'layanan': 771, 'batangan': 152, 'tuh': 1410, 'hyung': 557, 'setuju': 1247, 'olshop': 988, 'merubah': 891, 'kurir': 743, 'susah': 1299, 'tagihan': 1307, 'bl2015izxxehinv': 229, 'nunggu': 972, 'batas': 153, 'tabungan': 1305, 'banking': 142, 'ekstra': 431, 'lampirkan': 761, 'usaha': 1436, 'sertifikat': 1238, 'tertahan': 1367, 'cc': 286, 'cincay': 299, 'fix': 459, 'gabut': 469, 'malem': 819, 'dengerin': 344, 'lagu': 751, 'fitur': 458, 'batalkan': 151, 'pesanan': 1079, 'kirim2': 717, 'hp': 552, 'bos': 240, 'kirain': 715, 'rui': 1173, 'embel2': 437, 'sheeps': 1249, 'checkout': 294, 'punyanya': 1123, 'gopay': 499, 'bela': 166, 'pemeriksaannya': 1044, 'males': 821, 'kayaknya': 662, 'merasakan': 888, 'tgl': 1375, '16': 16, 'juni': 627, 'ngeh': 946, 'pajak': 1010, 'motor': 917, 'cobain': 302, 'perpanjang': 1071, 'online': 992, 'app': 106, 'samolnas': 1186, '10': 7, 'screenshot': 1202, 'sukses': 1296, 'meningkatkan': 876, 'produktivitas': 1111, 'membutuhkan': 854, 'faktor': 451, 'disitu': 393, 'nder': 933, 'tokoped': 1389, 'jualn': 622, 'yukk': 1482, '300rb': 44, 'ready': 1134, 'enak': 440, 'dibayar': 363, 'terkonfirmasi': 1359, 'kadaluwarsa': 633, 'refund': 1135, 'bahagia': 130, '100rb': 10, 'wahhh': 1456, 'lokasi': 792, 'berbeda': 180, 'halo': 524, 'telepon': 1337, 'email': 433, 'mending': 867, 'ahh': 66, 'return': 1156, 'perlahan': 1066, 'gede': 488, 'bunga': 266, 'deposito': 345, 'saham': 1177, 'murah': 922, 'manajer': 825, 'dipercaya': 383, 'pastinya': 1029, 'mah': 807, 'returnnya': 1157, 'tergantung': 1350, 'peristiwa2': 1064, 'dunia': 425, 'doang': 408, '1000': 9, 'diawasi': 359, 'ojk': 982, 'reksa': 1142, 'ud': 1418, 'konsultasi': 731, 'ahlinya': 67, 'telegram': 1336, 'disediakan': 390, 'dividen': 401, 'tahunnya': 1309, 'resiko': 1151, 'pendapatan': 1049, 'campuran': 277, 'larena': 770, 'macamnya': 803, 'pasar': 1023, 'menjual': 880, 'instan': 589, 'menit': 877, 'dibuka': 366, 'android': 96, 'playstore': 1096, 'kubah': 739, 'masjid': 835, 'enamel': 441, 'stainless': 1285, 'dipesan': 384, 'bosku': 241, 'lion': 785, 'parcel': 1021, 'tracking': 1402, 'barang': 148, 'bergerak': 185, 'terusan': 1370, 'menunggu': 882, 'jam': 604, '13': 11, 'tanggal': 1315, '27': 40, 'oktober': 985, 'kadaluarsa': 632, 'investor': 596, 'korea': 735, 'selatan': 1218, 'gencar': 490, 'berinvestasi': 189, 'startup': 1286, 'asia': 111, 'tenggara': 1345, 'grab': 502, 'investm': 595, 'dikumpulkan': 379, 'dibelanjakan': 364, 'menarik': 862, 'credit': 308, 'didapatkan': 368, 'menabung': 859, 'ngaku': 939, 'anak': 94, 'mobil': 911, 'otomotif': 1002, '85': 55, 'seru': 1240, 'long': 794, 'weekend': 1461, 'kuy': 747, '000789215215': 3, '26': 39, '1x24': 23, 'syaa': 1301, 'paketkuuu': 1015, 'dibawa': 362, 'nyampe': 977, 'kenapaaa': 684, 'informasikan': 583, 'contoh': 306, '201': 26, 'kredit': 736, 'applikasi': 107, 'dg': 350, 'terinspirasi': 1355, '000449497901': 2, 'terkena': 1358, 'criss': 310, 'cross': 311, 'senang': 1229, 'ngobrolnya': 951, 'info': 578, 'ngeblok': 944, 'gc': 487, 'permintaan': 1069, 'pengembalian': 1051, 'jelas2': 613, 'gambar': 479, 'tiang': 1377, 'lapaknya': 766, 'bilang': 218, 'sembarang': 1224, 'ane': 97, '20': 24, '00': 0, 'masker': 836, 'mediheal': 844, 'bt21': 248, 'spesial': 1282, 'bismillah': 224, 'mudaha': 921, 'si': 1254, 'cepat': 291, 'amiin': 90, 'wha': 1462, '085711950657': 5, 'send': 1230, 'diluar': 381, 'brg': 243, 'tdk': 1330, 'dicoba': 367, 'berkala': 194, 'logiut': 789, 'log': 787, 'ketipu': 712, 'untung': 1430, 'keburu': 666, 'curiga': 317, 'ikutin': 566, 'petunjuk': 1083, 'infonya': 582, 'pemberitahuan': 1042, 'maba': 802, 'computing': 305, 'ku': 738, 'ajar': 70, 'kmrn': 721, 'lulus': 796, 'd3': 321, 'and': 95, 'dipilih': 385, 'beruntung': 206, 'acak': 58, 'rp100': 1166, 'risiko': 1160, 'kerugiannya': 696, 'suka': 1295, 'developer': 349, 'bang': 137, 'remote': 1145, 'work': 1464, 'alhamadulillah': 83, 'saia': 1178, 'koneksi': 727, 'intern': 590, 'yayyyyy': 1477, 'kuyy': 748, 'semenjak': 1225, 'pandemi': 1017, 'market': 831, 'karuan': 655, 'alias': 84, 'crash': 307, 'kesempatanku': 704, 'konsisten': 730, 'kejutan': 671, 'francine': 464, 'pascal': 1025, 'rp10000': 1167, 'klik': 718, 'bsa': 247, 'kantor': 646, 'sicepat': 1258, 'lhokseumawe': 780, 'aceh': 60, 'ganti': 483, 'kapasitas': 647, 'battery': 154, 'terbesar': 1349, 'ikutan': 565, 'xtreme': 1466, 'sale': 1184, 'samsung': 1190, 'hei': 541, 'rubah': 1171, 'buyer': 271, 'otomatis': 1001, 'manual': 828, 'jne': 617, 'acc': 59, 'im3': 567, 'ooredoo': 994, 'menurutku': 884, 'resikonya': 1152, 'rendah': 1147, 'modal': 913, '700k': 53, 'tenaaang': 1343, 'tetep': 1373, 'ngerasain': 947, 'verified': 1442, 'trus': 1407, 'hijau': 548, 'peserta': 1082, 'gelombang': 489, 'pertamanya': 1074, 'lemot': 776, 'siang': 1255, 'sertifikatnya': 1239, 'kendalan': 686, 'mengalami': 870, 'mitra': 906, 'menghubungi': 873, 'waah': 1453, 'milih': 897, 'yah': 1471, 'cenderung': 290, 'stabil': 1284, 'dibantu': 361, 'penjualan': 1056, '202986175516': 32, 'diterima': 399, 'beserta': 208, 'buang': 251, 'berhari2': 187, 'ternayata': 1361, 'melindungi': 848, 'pelangan': 1034, 'berpihak': 199, 'mengikuti': 874, 'aturan': 118, 'pulsa': 1118, 'blm': 232, 'transfer': 1406, 'selisihnya': 1220, 'kesulitan': 706, 'berat': 179, 'bantuannya': 144, 'mengaktifkan': 869, 'lapak': 765, 'yakiiin': 1473, 'lho': 779, 'for': 462, 'like': 783, 'tangsel': 1317, 'by': 272, 'request': 1148, 'nego': 935, 'berfaedah': 183, 'pigeon': 1084, 'breast': 242, 'pump': 1120, 'electric': 432, 'go': 497, 'mini': 900, 'woi': 1463, 'tanggung': 1316, 'emoney': 439, '50rb': 48, 'parah': 1020, 'lama2': 758, 'dpt': 417, 'notifikasi': 966, 'telf': 1338, 'biarcepet': 215, 'laku': 754, 'spefikasi': 1281, 'aj': 68, 'rekber': 1138, 'asli': 113, 'sisten': 1267, 'bobrok': 238, 'dikirim': 377, 'disetujui': 391, 'gaditerusin': 471, 'dompet': 410, 'rugi': 1172, 'bund': 264, 'dikembalikan': 376, 'semestinya': 1226, 'serbu': 1237, 'honda': 551, 'beat': 163, 'karna': 653, 'varian': 1441, 'serat': 1236, 'sisal': 1263, 'sisalana': 1264, 'agave': 65, 'ngga': 949, '202986281011': 33, '000861353181': 4, 'keterbatasan': 708, 'karakter': 650, 'register': 1136, 'otp': 1003, 'tv': 1414, 'ky': 749, 'amp': 91, 'ketinggalan': 711, 'liat': 782, 'iklannya': 564, 'down': 415, 'berkali2': 195, 'nyoba': 979, 'jualnya': 623, 'terjangkau': 1356, 'budget': 254, 'alami': 80, 'eror': 445, 'pagi': 1008, 'mega': 845, 'ma': 800, 'tu': 1409, 'logonya': 790, 'notif': 965, 'binun': 222, 'microsoft': 894, 'be': 161, 'emers': 438, 'google': 498, 'mantap': 827, 'bayarnanti': 157, 'syaratnya': 1302, 'pesennya': 1081, 'makanannya': 813, 'dianterin': 358, 'grabexpress': 503, 'edisi': 427, 'jumatan': 626, 'jamin': 606, 'ori': 1000, 'solusii': 1279, 'memperlamaa': 856, 'bekukan': 165, 'pajakcengkareng': 1011, 'djp': 402, 'pemungut': 1045, 'ppn': 1105, 'pmse': 1100, 'kfc': 713, 'ayok': 122, 'patah': 1030, 'semangat': 1223, 'doain': 407, 'ragu': 1127, 'tipu': 1387, 'kesempatan': 703, 'atuh': 117, 'vouchernya': 1450, 'gunain': 509, 'cekout': 289, 'kesayangan': 698, 'kecewa': 668, 'dgan': 351, 'blokir': 235, 'berjualan': 190, 'promoted': 1115, 'push': 1124, '100': 8, 'mimin': 898, 'huumb': 556, 'ceki': 288, 'impian': 569, 'temukan': 1342, 'menariknya': 863, 'nomer': 963, 'kajian': 636, 'qanaah': 1126, 'rezeki': 1158, 'desember': 346, 'kena': 681, 'persen': 1072, 'td': 1329, 'mlm': 908, 'server': 1241, 'yasalaaaaammm': 1475, 'geraaamm': 491, 'mbaakk': 842, 'nhaloooo': 952, 'tolonglah': 1393, 'direspons': 387, 'area': 109, 'booth': 239, 'hall': 522, 'b3': 123, 'n2': 924, '35': 45, 'oli': 987, 'eneos': 442, '180790287633': 19, 'koq': 734, 'input': 587, 'dr': 418, 'kemarin': 680, 'history': 549, 'n3': 925, 'plz': 1099, 'help': 542, 'tiketnya': 1384, 'nmr': 960, 'nbl': 932, '18119zncbainf': 20, 'kesalan': 697, 'doong': 412, 'tujuan': 1411, 'lamongan': 759, 'desktop': 347, '180789734290': 18, 'ulasan': 1424, 'remit': 1144, 'mba': 841, 'etiketnya': 448, 'terhormat': 1352, 'bl1811adzaxvinv': 227, 'terbayar': 1348, 'mnurwakhidalimxd8f': 910, 'nsiang': 969, 'nmohon': 959, 'n180791230134': 923, 'id': 560, 'massage': 837, 'ade': 62, 'roy': 1163, 'renaldo': 1146, '180778526737': 17, 'diaktifkan': 356, 'sistem': 1266, 'error': 446, 'ramadan': 1129, 'guyys': 512, 'tet': 1372, 'ciwi': 300, 'gajian': 476, 'nkita': 958, 'rejeki': 1137, 'kesempata': 702, 'senin': 1231, 'teka': 1333, 'teki': 1334, 'miliaran': 896, 'hadir': 518, 'infak': 577, 'daviq_romelos': 336, 'daviq': 335, 'wahh': 1455, 'membuatmu': 853, 'http': 553, 'malemmalemobral': 820, 'obral': 980, 'dit': 397, 'denga': 342, 'habis': 515, 'puasa': 1117, 'mari': 830, 'menjemput': 879, 'tayangnya': 1328, 'sore': 1280, 'magrib': 806, 'un': 1425, 'bingung': 219, 'berbuka': 181, 'kese': 699, 'kolom': 725, 'diskusi': 395, 'ka': 629, 'paham': 1009, 'kekecewaan': 673, 'apmplify': 105, 'infoka': 580, 'dijadiin': 373, 'prioritas': 1109, 'kebutuhan': 667, 'harian': 532, 'kudu': 740, 'wadidur': 1454, 'ng': 938, 'kelar': 676, 'tarawehan': 1324, 'hepi': 544, 'miliar': 895, 'mer': 886, 'butuh': 269, 'headset': 539, 'merapaaat': 887, 'npake': 968, 'du': 420, 'pemb': 1038, 'fachriiiiir': 450, 'dilewatin': 380, 'ik': 562, 'ta': 1304, 'lak': 753, 'ats': 116, 'sarank': 1195, 'kursus': 744, 'nebak': 934, 'tot': 1398, 'berjuang': 191, 'sekuat': 1216, 'tenaga': 1344, 'beliin': 169, 'setrika': 1246, 'mamah': 823, '40': 47, 'burua': 268, 'kuuuy': 745, 'berunt': 205, 'terpil': 1363, 'et_febrian': 447, 'ketertarikannya': 709, 'kar': 649, 'indranano4': 574, 'baran': 147, 'heboh': 540, 'terheboh': 1351, 'rawan': 1132, 'ngantuk': 940, 'eits': 428, 'okay': 983, 'berk': 192, 'maf': 804, 'kaaan': 630, 'nbiar': 931, 'ibadah': 558, 'sarankan': 1196, 'penasaran': 1047, 'konten': 732, 'keren': 693, 'taraweh': 1323, 'ser': 1235, 'momen': 915, 'ditunggu': 400, 'harinya': 533, 'pengir': 1053, 'lamp': 760, 'alternatif': 85, 'hiburan': 546, 'kuuy': 746, 'tayang': 1327, 'bentar': 176, 'guyss': 511, 'nkalau': 957, 'bangeeet': 138, 'penuh': 1058, 'berkah': 193, 'plus': 1098, 'pinter': 1092, 'pint': 1091, 'abis': 56, 'tadarusan': 1306, 'tek': 1332, 'gaeees': 472, 'sibuk': 1257, 'kerjaan': 695, 'hobi': 550, 'ekst': 430, 'khusyuk': 714, 'ibadahnya': 559, 'sarung': 1197, 'dul': 423, 'besok': 209, 'shudel': 1253, 'kelakuanku': 674, 'jaman': 605, 'nhayooo': 953, 'inget': 584, 'nyama': 974, 'kendar': 688, 'tampil': 1312, 'menawan': 864, 'ba': 124, 'pokok': 1101, 'terpenu': 1362, 'skip': 1270, 'kendaraan': 689, 'beb': 164, 'berburu': 182, 'ramad': 1128, 'teflon': 1331, 'minyak': 903, 'goreng': 501, 'gaesss': 473, 'duanya': 421, 'bell': 171, 'inf': 576, 'hubung': 554, 'teru': 1368, 'org': 998, 'jgn': 615, 'share': 1248, 'we': 1460, 'bawel': 155, 'btw': 250, 'kabar': 631, 'nama': 928, 'upgrade': 1434, 'yu': 1480, 'bdp': 160, 'ar': 108, 'gx': 514, 'ja': 600, 'maybe': 840, 'anjim': 99, 'twitter': 1416, 'kaya': 660, 'penjuaã': 1057, 'minã': 904, 'berguru': 186, 'tampilan': 1313, 'zilingoooo': 1484, 'ampun': 93, 'cari': 281, 'ngeri': 948, 'sehari': 1212, 'puluhan': 1119, 'saya': 1199, 'di': 353, 'dan': 325, 'sudah': 1294, 'ini': 586, 'untuk': 1428, 'ada': 61, 'yang': 1474, 'kamu': 644, 'sekarang': 1215, 'sebagai': 1204, 'kok': 724, '190828': 22, 'agar': 64, 'menjadi': 878, 'dengan': 343, 'watermarkc18': 1459, 'atas': 114, 'bisa': 223, 'ke': 663, 'lewat': 777, 'dapat': 327, 'melalui': 847, 'juga': 624, 'place': 1094, 'salam': 1182, '202970266541': 30, 'krn': 737, 'pkt': 1093, 'disini': 392, 'semua': 1228, '25': 37, 'makin': 815, 'jangan': 608, 'dari': 331, 'terus': 1369, 'jawab2': 610, 'malah': 817, 'pada': 1005, 'atau': 115, 'secara': 1209, 'mau': 839, 'baru': 149, 'banyak': 146, 'jt': 619, 'caranya': 280, 'paling': 1016, 'siapapun': 1256, 'sebaiknya': 1205, 'belum': 174, 'tempat': 1341, 'dong': 411, 'akhirnya': 74, 'bli': 230, 'jadi': 601, 'sama': 1185, 'gadi': 470, 'stuff': 1292, 'station': 1287, '202967194761': 29, 'iyaa': 599, 'betul': 211, 'duls': 424, 'pegadaian': 1033, 'pasti': 1027, 'yaudah': 1476, 'baik': 132, 'sekali': 1214, 'namun': 929, 'tidak': 1380, 'memang': 849, 'payless': 1031, 'tap': 1320, 'cash': 283, 'buat': 253, 'padahal': 1006, 'daskapital': 333, 'cuma': 316, 'bukan': 261, 'soalnya': 1278, 'mana': 824, 'topup': 1397, 'lagi': 750, 'kasus': 657, '2th': 41, 'lalu': 756, 'setiap': 1245, 'hari': 531, 'apa': 100, 'mall': 822, 'kesehatanya': 701, 'jika': 616, 'pertanyaan': 1075, 'mengenai': 871, 'katanya': 658, 'uda': 1419, 'hampir': 526, 'rp': 1164, '30': 42, 'kami': 643, 'mendapatkan': 866, 'bagian': 129, 'uxnya': 1440, 'bagaimana': 127, '2015ipkbmcinv': 27, 'biasanya': 216, 'kalau': 639, 'saja': 1179, 'hanya': 528, 'karena': 651, 'sampai': 1187, 'bahkan': 131, 'jelas': 612, 'bertanya': 202, 'berubah': 203, 'tanya': 1319, 'uo': 1431, 'tiap': 1379, 'seperti': 1232, 'itu': 597, 'perlu': 1068, 'karenabalasan': 652, 'kalian': 641, 'akan': 73, 'cara': 279, 'pernah': 1070, 'mengucapkan': 875, 'sini': 1262, 'misalkan': 905, 'lain': 752, 'bagi': 128, 'memulai': 857, 'rekning': 1140, 'sangat': 1192, 'lama': 757, 'uinya': 1423, '3hari': 46, 'semakin': 1222, 'audiencenya': 120, 'tahun': 1308, 'pun': 1121, 'sepihak': 1234, 'oleh': 986, 'mereka': 889, 'tanpa': 1318, 'usah': 1435, 'kenapa': 683, 'bls': 236, 'gakny': 478, 'aman': 86, 'kan': 645, 'cukup': 315, 'menunjukkan': 883, 'melakukan': 846, 'terlebih': 1360, 'dahulu': 323, 'hubungi': 555, 'seenaknya': 1210, 'setelah': 1243, 'sampaikan': 1188, 'dia': 354, 'menang': 860, 'sebanyak': 1206, 'sana': 1191, 'asal': 110, 'main': 809, 'dalam': 324, 'keluar': 677, 'nah': 927, 'bloggerresponsiv': 234, 'back': 126, 'demi': 341, '60': 50, 'usd': 1437, '132': 12, 'ship': 1250, 'ping': 1090, 'deep': 338, 'talk': 1310, 'disana': 389, 'apaan': 101, 'tersebut': 1365, 'waktu': 1457, 'punya': 1122, 'lebih': 775, 'berupa': 207, 'nyamanya': 976, 'pesananya': 1080, 'dikirim2': 378, 'masih': 834, 'tapi': 1322, 'aku': 76, 'segera': 1211, 'hal': 521, 'harus': 534}\n"
     ]
    }
   ],
   "source": [
    "# You can use the below syntax to see the vocabulary that it has learned from the corpus\n",
    "print(tfidf_vect_9010.vocabulary_)"
   ]
  },
  {
   "cell_type": "code",
   "execution_count": 16,
   "metadata": {},
   "outputs": [
    {
     "data": {
      "text/plain": [
       "SVC(kernel='linear')"
      ]
     },
     "execution_count": 16,
     "metadata": {},
     "output_type": "execute_result"
    }
   ],
   "source": [
    "# Proses Pelatihan\n",
    "\n",
    "from sklearn.svm import SVC\n",
    "\n",
    "model = SVC(kernel='linear')\n",
    "model.fit(train_X_tfidf_9010,train_Y)"
   ]
  },
  {
   "cell_type": "code",
   "execution_count": 17,
   "metadata": {},
   "outputs": [],
   "source": [
    "# Proses Pengujian\n",
    "\n",
    "from sklearn.metrics import accuracy_score\n",
    "\n",
    "predictions_SVM_9010 = model.predict(test_X_tfidf_9010)\n",
    "test_prediction_9010 = pd.DataFrame()\n",
    "test_prediction_9010['Sentiment'] = test_X\n",
    "test_prediction_9010['Label'] = predictions_SVM_9010\n",
    "SVM_accuracy_9010 = accuracy_score(predictions_SVM_9010, test_Y)*100\n",
    "SVM_accuracy_9010 = round(SVM_accuracy_9010,1)"
   ]
  },
  {
   "cell_type": "code",
   "execution_count": 18,
   "metadata": {},
   "outputs": [
    {
     "data": {
      "text/html": [
       "<div>\n",
       "<style scoped>\n",
       "    .dataframe tbody tr th:only-of-type {\n",
       "        vertical-align: middle;\n",
       "    }\n",
       "\n",
       "    .dataframe tbody tr th {\n",
       "        vertical-align: top;\n",
       "    }\n",
       "\n",
       "    .dataframe thead th {\n",
       "        text-align: right;\n",
       "    }\n",
       "</style>\n",
       "<table border=\"1\" class=\"dataframe\">\n",
       "  <thead>\n",
       "    <tr style=\"text-align: right;\">\n",
       "      <th></th>\n",
       "      <th>Sentiment</th>\n",
       "      <th>Label</th>\n",
       "    </tr>\n",
       "  </thead>\n",
       "  <tbody>\n",
       "    <tr>\n",
       "      <th>610</th>\n",
       "      <td>rt perusahaan teknologi indonesia bukalapak me...</td>\n",
       "      <td>positif</td>\n",
       "    </tr>\n",
       "    <tr>\n",
       "      <th>174</th>\n",
       "      <td>kak maaf banget ya udah bikin kakak gak nyaman...</td>\n",
       "      <td>negatif</td>\n",
       "    </tr>\n",
       "    <tr>\n",
       "      <th>67</th>\n",
       "      <td>yuk langsung aja kepoin marketplace gopayless ...</td>\n",
       "      <td>positif</td>\n",
       "    </tr>\n",
       "    <tr>\n",
       "      <th>168</th>\n",
       "      <td>jual bukalapak carousel deh cepet lakunya</td>\n",
       "      <td>positif</td>\n",
       "    </tr>\n",
       "    <tr>\n",
       "      <th>275</th>\n",
       "      <td>gratisan pake kode ongkirgratis pas belanja bu...</td>\n",
       "      <td>positif</td>\n",
       "    </tr>\n",
       "    <tr>\n",
       "      <th>...</th>\n",
       "      <td>...</td>\n",
       "      <td>...</td>\n",
       "    </tr>\n",
       "    <tr>\n",
       "      <th>493</th>\n",
       "      <td>mohon maaf ya kak terkait mohon kese</td>\n",
       "      <td>negatif</td>\n",
       "    </tr>\n",
       "    <tr>\n",
       "      <th>629</th>\n",
       "      <td>salah kode unik udh nungfu 3 disuruh nungfu br...</td>\n",
       "      <td>negatif</td>\n",
       "    </tr>\n",
       "    <tr>\n",
       "      <th>425</th>\n",
       "      <td>hai kak maaf banget ya kendalanya terkait kend...</td>\n",
       "      <td>negatif</td>\n",
       "    </tr>\n",
       "    <tr>\n",
       "      <th>178</th>\n",
       "      <td>tersedia jg bukalapak shopee toped wa 08591916...</td>\n",
       "      <td>positif</td>\n",
       "    </tr>\n",
       "    <tr>\n",
       "      <th>544</th>\n",
       "      <td>bangeeet ku</td>\n",
       "      <td>negatif</td>\n",
       "    </tr>\n",
       "  </tbody>\n",
       "</table>\n",
       "<p>329 rows × 2 columns</p>\n",
       "</div>"
      ],
      "text/plain": [
       "                                             Sentiment    Label\n",
       "610  rt perusahaan teknologi indonesia bukalapak me...  positif\n",
       "174  kak maaf banget ya udah bikin kakak gak nyaman...  negatif\n",
       "67   yuk langsung aja kepoin marketplace gopayless ...  positif\n",
       "168          jual bukalapak carousel deh cepet lakunya  positif\n",
       "275  gratisan pake kode ongkirgratis pas belanja bu...  positif\n",
       "..                                                 ...      ...\n",
       "493               mohon maaf ya kak terkait mohon kese  negatif\n",
       "629  salah kode unik udh nungfu 3 disuruh nungfu br...  negatif\n",
       "425  hai kak maaf banget ya kendalanya terkait kend...  negatif\n",
       "178  tersedia jg bukalapak shopee toped wa 08591916...  positif\n",
       "544                                        bangeeet ku  negatif\n",
       "\n",
       "[329 rows x 2 columns]"
      ]
     },
     "execution_count": 18,
     "metadata": {},
     "output_type": "execute_result"
    }
   ],
   "source": [
    "test_prediction_9010"
   ]
  },
  {
   "cell_type": "code",
   "execution_count": 19,
   "metadata": {},
   "outputs": [],
   "source": [
    "\n",
    "test_prediction_9010.to_csv(\"test_prediction_9010.csv\")"
   ]
  },
  {
   "cell_type": "code",
   "execution_count": 20,
   "metadata": {},
   "outputs": [
    {
     "data": {
      "text/plain": [
       "76.3"
      ]
     },
     "execution_count": 20,
     "metadata": {},
     "output_type": "execute_result"
    }
   ],
   "source": [
    "SVM_accuracy_9010"
   ]
  },
  {
   "cell_type": "code",
   "execution_count": 21,
   "metadata": {},
   "outputs": [
    {
     "name": "stdout",
     "output_type": "stream",
     "text": [
      "\n",
      "Here is the classification report:\n",
      "              precision    recall  f1-score   support\n",
      "\n",
      "     negatif       0.78      0.81      0.79       141\n",
      "      netral       0.67      0.14      0.23        29\n",
      "     positif       0.75      0.84      0.79       159\n",
      "\n",
      "    accuracy                           0.76       329\n",
      "   macro avg       0.73      0.59      0.60       329\n",
      "weighted avg       0.76      0.76      0.74       329\n",
      "\n"
     ]
    }
   ],
   "source": [
    "# Accuracy, Precision, Recall, f1-score\n",
    "\n",
    "from sklearn.metrics import classification_report\n",
    "\n",
    "print (\"\\nHere is the classification report:\") \n",
    "print (classification_report(test_Y, predictions_SVM_9010))"
   ]
  },
  {
   "cell_type": "code",
   "execution_count": 22,
   "metadata": {},
   "outputs": [
    {
     "data": {
      "image/png": "[encoded data removed]",
      "text/plain": [
       "<Figure size 576x360 with 2 Axes>"
      ]
     },
     "metadata": {},
     "output_type": "display_data"
    }
   ],
   "source": [
    "from sklearn.metrics import classification_report,confusion_matrix\n",
    "\n",
    "import seaborn as sns\n",
    "import matplotlib.pyplot as plt\n",
    "from sklearn.metrics import confusion_matrix\n",
    "f, ax = plt.subplots(figsize=(8,5))\n",
    "sns.heatmap(confusion_matrix(test_Y, predictions_SVM_9010), annot=True, fmt=\".0f\", ax=ax)\n",
    "plt.ylabel(\"y_true\")\n",
    "plt.xlabel(\"y_pred\")\n",
    "plt.show()"
   ]
  },
  {
   "cell_type": "code",
   "execution_count": null,
   "metadata": {},
   "outputs": [],
   "source": []
  },
  {
   "cell_type": "code",
   "execution_count": null,
   "metadata": {},
   "outputs": [],
   "source": []
  },
  {
   "cell_type": "code",
   "execution_count": null,
   "metadata": {},
   "outputs": [],
   "source": []
  }
 ],
 "metadata": {
  "kernelspec": {
   "display_name": "Python 3",
   "language": "python",
   "name": "python3"
  },
  "language_info": {
   "codemirror_mode": {
    "name": "ipython",
    "version": 3
   },
   "file_extension": ".py",
   "mimetype": "text/x-python",
   "name": "python",
   "nbconvert_exporter": "python",
   "pygments_lexer": "ipython3",
   "version": "3.8.5"
  }
 },
 "nbformat": 4,
 "nbformat_minor": 5
}
